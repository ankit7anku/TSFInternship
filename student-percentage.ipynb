{
  "nbformat": 4,
  "nbformat_minor": 0,
  "metadata": {
    "colab": {
      "provenance": []
    },
    "kernelspec": {
      "name": "python3",
      "display_name": "Python 3"
    },
    "language_info": {
      "name": "python"
    }
  },
  "cells": [
    {
      "cell_type": "markdown",
      "source": [
        "We have imported the necessary libraries for data analysis and visualization.\n",
        "\n",
        "1. `import pandas as pd`: This line imports the pandas library and assigns it the alias \"pd.\" Pandas is a popular library for data manipulation and analysis.\n",
        "\n",
        "2. `import numpy as np`: This line imports the numpy library and assigns it the alias \"np.\" NumPy is a library for numerical operations, and it is often used in conjunction with pandas for data manipulation.\n",
        "\n",
        "3. `import matplotlib.pyplot as plt`: This line imports the `pyplot` module from the matplotlib library and assigns it the alias \"plt.\" Matplotlib is a widely used library for creating static, animated, and interactive visualizations in Python.\n",
        "\n",
        "4. `%matplotlib inline`: This is a Jupyter Notebook magic command that allows matplotlib to render plots directly within the notebook cells. It's not required in all Python environments but is commonly used in Jupyter Notebook or Jupyter Lab to display plots inline.\n",
        "\n",
        "With these libraries imported and the inline plotting configured, we are all set to perform data analysis and create visualizations using pandas, numpy, and matplotlib in your Python environment."
      ],
      "metadata": {
        "id": "UMPRubkQ9lZv"
      }
    },
    {
      "cell_type": "code",
      "execution_count": null,
      "metadata": {
        "id": "5KuE5QyhItda"
      },
      "outputs": [],
      "source": [
        "import pandas as pd\n",
        "import numpy as np\n",
        "import matplotlib.pyplot as plt\n",
        "%matplotlib inline"
      ]
    },
    {
      "cell_type": "markdown",
      "source": [
        "We are trying to import data from a CSV file hosted on the web using the pandas library.\n",
        "\n",
        "1. `data_set_link = \"http://bit.ly/w-data\"`: This line stores the URL of the CSV dataset in the `data_set_link` variable. This URL points to the location of the dataset you want to import.\n",
        "\n",
        "2. `df = pd.read_csv(data_set_link)`: This line uses pandas' `read_csv()` function to read the data from the CSV file located at the URL specified in `data_set_link`. The data is loaded into a pandas DataFrame called `df`.\n",
        "\n",
        "3. `print(\"Data imported successfully from mentioned path\")`: This line prints a message to the console, indicating that the data has been successfully imported from the specified URL.\n",
        "\n",
        "4. `df.head()`: This line displays the first few rows of the DataFrame `df` using the `head()` method. By default, it shows the first five rows, giving you an initial look at the structure and content of the dataset.\n",
        "\n"
      ],
      "metadata": {
        "id": "vBegf0Mv9rPW"
      }
    },
    {
      "cell_type": "code",
      "source": [
        "data_set_link = \"http://bit.ly/w-data\"\n",
        "df=pd.read_csv(data_set_link)\n",
        "print(\"Data imported successfully from mentioned path\")\n",
        "df.head()"
      ],
      "metadata": {
        "colab": {
          "base_uri": "https://localhost:8080/",
          "height": 223
        },
        "id": "cstfX4yxdJNt",
        "outputId": "5f5c5a0c-62a6-407d-b9fc-4d9dc552c568"
      },
      "execution_count": null,
      "outputs": [
        {
          "output_type": "stream",
          "name": "stdout",
          "text": [
            "Data imported successfully from mentioned path\n"
          ]
        },
        {
          "output_type": "execute_result",
          "data": {
            "text/plain": [
              "   Hours  Scores\n",
              "0    2.5      21\n",
              "1    5.1      47\n",
              "2    3.2      27\n",
              "3    8.5      75\n",
              "4    3.5      30"
            ],
            "text/html": [
              "\n",
              "  <div id=\"df-4e8d74a9-57db-4577-8557-17dc88419fe4\" class=\"colab-df-container\">\n",
              "    <div>\n",
              "<style scoped>\n",
              "    .dataframe tbody tr th:only-of-type {\n",
              "        vertical-align: middle;\n",
              "    }\n",
              "\n",
              "    .dataframe tbody tr th {\n",
              "        vertical-align: top;\n",
              "    }\n",
              "\n",
              "    .dataframe thead th {\n",
              "        text-align: right;\n",
              "    }\n",
              "</style>\n",
              "<table border=\"1\" class=\"dataframe\">\n",
              "  <thead>\n",
              "    <tr style=\"text-align: right;\">\n",
              "      <th></th>\n",
              "      <th>Hours</th>\n",
              "      <th>Scores</th>\n",
              "    </tr>\n",
              "  </thead>\n",
              "  <tbody>\n",
              "    <tr>\n",
              "      <th>0</th>\n",
              "      <td>2.5</td>\n",
              "      <td>21</td>\n",
              "    </tr>\n",
              "    <tr>\n",
              "      <th>1</th>\n",
              "      <td>5.1</td>\n",
              "      <td>47</td>\n",
              "    </tr>\n",
              "    <tr>\n",
              "      <th>2</th>\n",
              "      <td>3.2</td>\n",
              "      <td>27</td>\n",
              "    </tr>\n",
              "    <tr>\n",
              "      <th>3</th>\n",
              "      <td>8.5</td>\n",
              "      <td>75</td>\n",
              "    </tr>\n",
              "    <tr>\n",
              "      <th>4</th>\n",
              "      <td>3.5</td>\n",
              "      <td>30</td>\n",
              "    </tr>\n",
              "  </tbody>\n",
              "</table>\n",
              "</div>\n",
              "    <div class=\"colab-df-buttons\">\n",
              "\n",
              "  <div class=\"colab-df-container\">\n",
              "    <button class=\"colab-df-convert\" onclick=\"convertToInteractive('df-4e8d74a9-57db-4577-8557-17dc88419fe4')\"\n",
              "            title=\"Convert this dataframe to an interactive table.\"\n",
              "            style=\"display:none;\">\n",
              "\n",
              "  <svg xmlns=\"http://www.w3.org/2000/svg\" height=\"24px\" viewBox=\"0 -960 960 960\">\n",
              "    <path d=\"M120-120v-720h720v720H120Zm60-500h600v-160H180v160Zm220 220h160v-160H400v160Zm0 220h160v-160H400v160ZM180-400h160v-160H180v160Zm440 0h160v-160H620v160ZM180-180h160v-160H180v160Zm440 0h160v-160H620v160Z\"/>\n",
              "  </svg>\n",
              "    </button>\n",
              "\n",
              "  <style>\n",
              "    .colab-df-container {\n",
              "      display:flex;\n",
              "      gap: 12px;\n",
              "    }\n",
              "\n",
              "    .colab-df-convert {\n",
              "      background-color: #E8F0FE;\n",
              "      border: none;\n",
              "      border-radius: 50%;\n",
              "      cursor: pointer;\n",
              "      display: none;\n",
              "      fill: #1967D2;\n",
              "      height: 32px;\n",
              "      padding: 0 0 0 0;\n",
              "      width: 32px;\n",
              "    }\n",
              "\n",
              "    .colab-df-convert:hover {\n",
              "      background-color: #E2EBFA;\n",
              "      box-shadow: 0px 1px 2px rgba(60, 64, 67, 0.3), 0px 1px 3px 1px rgba(60, 64, 67, 0.15);\n",
              "      fill: #174EA6;\n",
              "    }\n",
              "\n",
              "    .colab-df-buttons div {\n",
              "      margin-bottom: 4px;\n",
              "    }\n",
              "\n",
              "    [theme=dark] .colab-df-convert {\n",
              "      background-color: #3B4455;\n",
              "      fill: #D2E3FC;\n",
              "    }\n",
              "\n",
              "    [theme=dark] .colab-df-convert:hover {\n",
              "      background-color: #434B5C;\n",
              "      box-shadow: 0px 1px 3px 1px rgba(0, 0, 0, 0.15);\n",
              "      filter: drop-shadow(0px 1px 2px rgba(0, 0, 0, 0.3));\n",
              "      fill: #FFFFFF;\n",
              "    }\n",
              "  </style>\n",
              "\n",
              "    <script>\n",
              "      const buttonEl =\n",
              "        document.querySelector('#df-4e8d74a9-57db-4577-8557-17dc88419fe4 button.colab-df-convert');\n",
              "      buttonEl.style.display =\n",
              "        google.colab.kernel.accessAllowed ? 'block' : 'none';\n",
              "\n",
              "      async function convertToInteractive(key) {\n",
              "        const element = document.querySelector('#df-4e8d74a9-57db-4577-8557-17dc88419fe4');\n",
              "        const dataTable =\n",
              "          await google.colab.kernel.invokeFunction('convertToInteractive',\n",
              "                                                    [key], {});\n",
              "        if (!dataTable) return;\n",
              "\n",
              "        const docLinkHtml = 'Like what you see? Visit the ' +\n",
              "          '<a target=\"_blank\" href=https://colab.research.google.com/notebooks/data_table.ipynb>data table notebook</a>'\n",
              "          + ' to learn more about interactive tables.';\n",
              "        element.innerHTML = '';\n",
              "        dataTable['output_type'] = 'display_data';\n",
              "        await google.colab.output.renderOutput(dataTable, element);\n",
              "        const docLink = document.createElement('div');\n",
              "        docLink.innerHTML = docLinkHtml;\n",
              "        element.appendChild(docLink);\n",
              "      }\n",
              "    </script>\n",
              "  </div>\n",
              "\n",
              "\n",
              "<div id=\"df-2430c078-201b-42cf-89c3-9cc6d9359e3b\">\n",
              "  <button class=\"colab-df-quickchart\" onclick=\"quickchart('df-2430c078-201b-42cf-89c3-9cc6d9359e3b')\"\n",
              "            title=\"Suggest charts.\"\n",
              "            style=\"display:none;\">\n",
              "\n",
              "<svg xmlns=\"http://www.w3.org/2000/svg\" height=\"24px\"viewBox=\"0 0 24 24\"\n",
              "     width=\"24px\">\n",
              "    <g>\n",
              "        <path d=\"M19 3H5c-1.1 0-2 .9-2 2v14c0 1.1.9 2 2 2h14c1.1 0 2-.9 2-2V5c0-1.1-.9-2-2-2zM9 17H7v-7h2v7zm4 0h-2V7h2v10zm4 0h-2v-4h2v4z\"/>\n",
              "    </g>\n",
              "</svg>\n",
              "  </button>\n",
              "\n",
              "<style>\n",
              "  .colab-df-quickchart {\n",
              "      --bg-color: #E8F0FE;\n",
              "      --fill-color: #1967D2;\n",
              "      --hover-bg-color: #E2EBFA;\n",
              "      --hover-fill-color: #174EA6;\n",
              "      --disabled-fill-color: #AAA;\n",
              "      --disabled-bg-color: #DDD;\n",
              "  }\n",
              "\n",
              "  [theme=dark] .colab-df-quickchart {\n",
              "      --bg-color: #3B4455;\n",
              "      --fill-color: #D2E3FC;\n",
              "      --hover-bg-color: #434B5C;\n",
              "      --hover-fill-color: #FFFFFF;\n",
              "      --disabled-bg-color: #3B4455;\n",
              "      --disabled-fill-color: #666;\n",
              "  }\n",
              "\n",
              "  .colab-df-quickchart {\n",
              "    background-color: var(--bg-color);\n",
              "    border: none;\n",
              "    border-radius: 50%;\n",
              "    cursor: pointer;\n",
              "    display: none;\n",
              "    fill: var(--fill-color);\n",
              "    height: 32px;\n",
              "    padding: 0;\n",
              "    width: 32px;\n",
              "  }\n",
              "\n",
              "  .colab-df-quickchart:hover {\n",
              "    background-color: var(--hover-bg-color);\n",
              "    box-shadow: 0 1px 2px rgba(60, 64, 67, 0.3), 0 1px 3px 1px rgba(60, 64, 67, 0.15);\n",
              "    fill: var(--button-hover-fill-color);\n",
              "  }\n",
              "\n",
              "  .colab-df-quickchart-complete:disabled,\n",
              "  .colab-df-quickchart-complete:disabled:hover {\n",
              "    background-color: var(--disabled-bg-color);\n",
              "    fill: var(--disabled-fill-color);\n",
              "    box-shadow: none;\n",
              "  }\n",
              "\n",
              "  .colab-df-spinner {\n",
              "    border: 2px solid var(--fill-color);\n",
              "    border-color: transparent;\n",
              "    border-bottom-color: var(--fill-color);\n",
              "    animation:\n",
              "      spin 1s steps(1) infinite;\n",
              "  }\n",
              "\n",
              "  @keyframes spin {\n",
              "    0% {\n",
              "      border-color: transparent;\n",
              "      border-bottom-color: var(--fill-color);\n",
              "      border-left-color: var(--fill-color);\n",
              "    }\n",
              "    20% {\n",
              "      border-color: transparent;\n",
              "      border-left-color: var(--fill-color);\n",
              "      border-top-color: var(--fill-color);\n",
              "    }\n",
              "    30% {\n",
              "      border-color: transparent;\n",
              "      border-left-color: var(--fill-color);\n",
              "      border-top-color: var(--fill-color);\n",
              "      border-right-color: var(--fill-color);\n",
              "    }\n",
              "    40% {\n",
              "      border-color: transparent;\n",
              "      border-right-color: var(--fill-color);\n",
              "      border-top-color: var(--fill-color);\n",
              "    }\n",
              "    60% {\n",
              "      border-color: transparent;\n",
              "      border-right-color: var(--fill-color);\n",
              "    }\n",
              "    80% {\n",
              "      border-color: transparent;\n",
              "      border-right-color: var(--fill-color);\n",
              "      border-bottom-color: var(--fill-color);\n",
              "    }\n",
              "    90% {\n",
              "      border-color: transparent;\n",
              "      border-bottom-color: var(--fill-color);\n",
              "    }\n",
              "  }\n",
              "</style>\n",
              "\n",
              "  <script>\n",
              "    async function quickchart(key) {\n",
              "      const quickchartButtonEl =\n",
              "        document.querySelector('#' + key + ' button');\n",
              "      quickchartButtonEl.disabled = true;  // To prevent multiple clicks.\n",
              "      quickchartButtonEl.classList.add('colab-df-spinner');\n",
              "      try {\n",
              "        const charts = await google.colab.kernel.invokeFunction(\n",
              "            'suggestCharts', [key], {});\n",
              "      } catch (error) {\n",
              "        console.error('Error during call to suggestCharts:', error);\n",
              "      }\n",
              "      quickchartButtonEl.classList.remove('colab-df-spinner');\n",
              "      quickchartButtonEl.classList.add('colab-df-quickchart-complete');\n",
              "    }\n",
              "    (() => {\n",
              "      let quickchartButtonEl =\n",
              "        document.querySelector('#df-2430c078-201b-42cf-89c3-9cc6d9359e3b button');\n",
              "      quickchartButtonEl.style.display =\n",
              "        google.colab.kernel.accessAllowed ? 'block' : 'none';\n",
              "    })();\n",
              "  </script>\n",
              "</div>\n",
              "    </div>\n",
              "  </div>\n"
            ]
          },
          "metadata": {},
          "execution_count": 3
        }
      ]
    },
    {
      "cell_type": "markdown",
      "source": [
        "The code uses matplotlib to create a scatter plot of data from your DataFrame `df`.\n",
        "\n",
        "1. `df.plot(x='Hours', y='Scores', style='o', color='black')`: This line creates a scatter plot where 'Hours' is plotted on the x-axis and 'Scores' on the y-axis. The `style='o'` argument specifies that data points should be represented as circles (dots). The `color='black'` argument sets the color of the dots to black.\n",
        "\n",
        "2. `plt.title('Hours and Percentage relation')`: This line adds a title to the plot, which describes the relationship between hours studied and percentage scores.\n",
        "\n",
        "3. `plt.xlabel('Number of Hours Studied')`: This line adds a label to the x-axis, indicating the number of hours studied.\n",
        "\n",
        "4. `plt.ylabel('Percentage Score obtained')`: This line adds a label to the y-axis, indicating the percentage score obtained.\n",
        "\n",
        "5. `plt.show()`: Finally, this line displays the plot.\n",
        "\n",
        "The resulting plot will show a scatter of points where each point represents a pair of hours studied and the corresponding percentage score obtained. This type of plot is useful for visualizing the relationship between two continuous variables and identifying any patterns or trends in the data."
      ],
      "metadata": {
        "id": "XFBB2yCF98xF"
      }
    },
    {
      "cell_type": "code",
      "source": [
        "df.plot(x='Hours', y='Scores', style= 'o', color='black')\n",
        "plt.title('Hours and  Percentage relation')\n",
        "plt.xlabel('Number of Hours Studied')\n",
        "plt.ylabel('Percentage Score obtained')\n",
        "plt.show()"
      ],
      "metadata": {
        "colab": {
          "base_uri": "https://localhost:8080/",
          "height": 472
        },
        "id": "Sk6SLo3ueMGp",
        "outputId": "fc291d64-2d36-4ccc-874d-84bd587bf87a"
      },
      "execution_count": null,
      "outputs": [
        {
          "output_type": "display_data",
          "data": {
            "text/plain": [
              "<Figure size 640x480 with 1 Axes>"
            ],
            "image/png": "[encoded data removed]"
          },
          "metadata": {}
        }
      ]
    },
    {
      "cell_type": "markdown",
      "source": [
        "In the we are preparing  data for machine learning or statistical analysis by creating two NumPy arrays, `X` and `y`, using the pandas DataFrame `df`.\n",
        "\n",
        "1. `X = df.iloc[:, :-1].values`: This line extracts the values from all rows of `df` for all columns except the last one (i.e., all columns except the target variable). This is done using the `.iloc` indexer with `[:, :-1]`. The resulting array `X` will contain the feature variables.\n",
        "\n",
        "2. `y = df.iloc[:, 1].values`: This line extracts the values from all rows of `df` for the second column (index 1) of the DataFrame, which typically represents the target variable. The resulting array `y` will contain the target variable you want to predict or analyze.\n",
        "\n",
        "After executing these lines, you will have your feature matrix `X` containing all the independent variables (usually referred to as features or predictors), and your target array `y` containing the dependent variable you want to predict or analyze. These arrays can then be used for various machine learning or statistical modeling tasks, such as regression or classification."
      ],
      "metadata": {
        "id": "WH0ewzeo-HPD"
      }
    },
    {
      "cell_type": "code",
      "source": [
        "X = df.iloc[:, :-1].values\n",
        "y = df.iloc[:, 1].values"
      ],
      "metadata": {
        "id": "idMW4V0ygdZV"
      },
      "execution_count": null,
      "outputs": []
    },
    {
      "cell_type": "markdown",
      "source": [
        "The code  uses the `train_test_split` function from scikit-learn (sklearn) to split data into training and testing sets.\n",
        "\n",
        "1. `from sklearn.model_selection import train_test_split`: This line imports the `train_test_split` function from scikit-learn's `model_selection` module. This function is commonly used to split a dataset into training and testing subsets.\n",
        "\n",
        "2. `X_train, X_test, y_train, y_test = train_test_split(X, y, test_size=0.2, random_state=0)`: This line performs the actual data splitting:\n",
        "   - `X` is your feature matrix, which contains the independent variables.\n",
        "   - `y` is your target variable, which you want to predict or analyze.\n",
        "   - `test_size=0.2` specifies that you want to allocate 20% of the data to the testing set, while 80% will be used for training. You can adjust this value to control the size of your testing set.\n",
        "   - `random_state=0` sets a random seed to ensure reproducibility. The same random seed will result in the same data split every time you run the code. You can change this value or set it to `None` if you want different splits each time.\n",
        "\n",
        "After running this code, you will have four NumPy arrays:\n",
        "- `X_train`: The feature matrix for the training set.\n",
        "- `X_test`: The feature matrix for the testing set.\n",
        "- `y_train`: The target values for the training set.\n",
        "- `y_test`: The target values for the testing set.\n",
        "\n",
        "You can use these data splits to train machine learning models on the training data and evaluate their performance on the testing data."
      ],
      "metadata": {
        "id": "o5VUe9qo-Ial"
      }
    },
    {
      "cell_type": "code",
      "source": [
        "from sklearn.model_selection import train_test_split\n",
        "X_train, X_test, y_train, y_test = train_test_split(X, y,\n",
        "                            test_size=0.2, random_state=0)"
      ],
      "metadata": {
        "id": "1mvqFOprggAR"
      },
      "execution_count": null,
      "outputs": []
    },
    {
      "cell_type": "markdown",
      "source": [
        "The code  uses scikit-learn's `LinearRegression` class to create a linear regression model and fits it to your training data.\n",
        "\n",
        "1. `from sklearn.linear_model import LinearRegression`: This line imports the `LinearRegression` class from scikit-learn's `linear_model` module. Linear regression is a commonly used machine learning algorithm for modeling the relationship between a dependent variable (target) and one or more independent variables (features) using a linear equation.\n",
        "\n",
        "2. `regressor = LinearRegression()`: This line creates an instance of the `LinearRegression` class and assigns it to the variable `regressor`. This instance represents your linear regression model.\n",
        "\n",
        "3. `regressor.fit(X_train, y_train)`: This line trains (fits) your linear regression model using the training data. Specifically:\n",
        "   - `X_train` is the feature matrix of the training set.\n",
        "   - `y_train` is the target variable (labels) of the training set.\n",
        "   - The `fit` method computes the coefficients (slope and intercept) of the linear regression model that best fits the training data. It finds the line that minimizes the sum of squared differences between the actual target values and the values predicted by the model.\n",
        "\n",
        "After running this code, your `regressor` object will be trained and ready to make predictions on new data. You can use the model to predict target values (`y`) based on feature values (`X`). Typically, you would evaluate the model's performance using the testing set or use it for making predictions on unseen data."
      ],
      "metadata": {
        "id": "LfG8T782-JfD"
      }
    },
    {
      "cell_type": "code",
      "source": [
        "from sklearn.linear_model import LinearRegression\n",
        "regressor = LinearRegression()\n",
        "regressor.fit(X_train, y_train)\n",
        "\n",
        "print(\"Training complete.\")"
      ],
      "metadata": {
        "colab": {
          "base_uri": "https://localhost:8080/"
        },
        "id": "vOvTJ4rVgkCB",
        "outputId": "906911bc-2266-40c7-9bfd-abef39ffec04"
      },
      "execution_count": null,
      "outputs": [
        {
          "output_type": "stream",
          "name": "stdout",
          "text": [
            "Training complete.\n"
          ]
        }
      ]
    },
    {
      "cell_type": "markdown",
      "source": [
        "The code  plots the regression line for a simple linear regression model along with the scatter plot of the actual data points.H\n",
        "\n",
        "1. `line = regressor.coef_ * X + regressor.intercept_`: This line calculates the values for the regression line based on the coefficients and intercept obtained from the linear regression model. `regressor.coef_` represents the slope (coefficient), and `regressor.intercept_` represents the y-intercept. It calculates the predicted y-values for each x-value in the feature matrix `X` using the equation of a straight line (y = mx + b).\n",
        "\n",
        "2. `plt.scatter(X, y)`: This line creates a scatter plot of the actual data points. `X` contains the feature values, and `y` contains the corresponding target values. This scatter plot shows the relationship between the features and targets.\n",
        "\n",
        "3. `plt.plot(X, line)`: This line plots the regression line calculated earlier using the `line` variable. It overlays the line on top of the scatter plot, allowing you to visualize how well the linear regression model fits the data.\n",
        "\n",
        "4. `plt.show()`: Finally, this line displays the plot with the scatter points and the regression line.\n",
        "\n",
        "The resulting plot will show the scatter of data points and a straight line that represents the linear regression model's prediction. The goal of linear regression is to find the line that best fits the data points and minimizes the error between the predicted values (the line) and the actual values (the scatter points)."
      ],
      "metadata": {
        "id": "_B-Eo3pr-Kfc"
      }
    },
    {
      "cell_type": "code",
      "source": [
        "# Plotting the regression line\n",
        "line = regressor.coef_*X+regressor.intercept_\n",
        "\n",
        "# Plotting for the test data\n",
        "plt.scatter(X, y)\n",
        "plt.plot(X, line);\n",
        "plt.show()\n",
        "#plt.scatter(X_test, y_test,  color='black')\n",
        "#plt.plot(X_test, y_pred, color='blue', linewidth=3)"
      ],
      "metadata": {
        "colab": {
          "base_uri": "https://localhost:8080/",
          "height": 430
        },
        "id": "PYGme6pJgmPn",
        "outputId": "d899e96b-566e-49f1-f657-b3eec8e7405a"
      },
      "execution_count": null,
      "outputs": [
        {
          "output_type": "display_data",
          "data": {
            "text/plain": [
              "<Figure size 640x480 with 1 Axes>"
            ],
            "image/png": "[encoded data removed]"
          },
          "metadata": {}
        }
      ]
    },
    {
      "cell_type": "markdown",
      "source": [
        "The code prints the testing data (`X_test`) and then uses your trained linear regression model (`regressor`) to predict scores (`y_pred`) based on the testing data. Here's what each part of the code does:\n",
        "\n",
        "1. `print(X_test)`: This line prints the testing data (`X_test`), which contains the feature values (in this case, the number of hours studied) for the testing set. It allows you to inspect the feature values that will be used for predictions.\n",
        "\n",
        "2. `y_pred = regressor.predict(X_test)`: This line uses your trained linear regression model (`regressor`) to make predictions on the testing data. Specifically:\n",
        "   - `X_test` is the feature matrix of the testing set (the number of hours studied).\n",
        "   - The `predict` method computes predicted scores (y-values) based on the linear regression model. It uses the coefficients and intercept learned during training to make these predictions.\n",
        "\n",
        "After running this code, you will have the predicted scores stored in the `y_pred` variable. These predicted scores represent the model's estimates of the target variable (e.g., percentage scores) for the testing data based on the number of hours studied.\n"
      ],
      "metadata": {
        "id": "FJpTqaxV-LR3"
      }
    },
    {
      "cell_type": "code",
      "source": [
        "print(X_test) # Testing data - In Hours\n",
        "y_pred = regressor.predict(X_test) # Predicting the scores"
      ],
      "metadata": {
        "colab": {
          "base_uri": "https://localhost:8080/"
        },
        "id": "8JROkdaxgq4E",
        "outputId": "15a8c364-d3fb-412e-b761-0f832a84c394"
      },
      "execution_count": null,
      "outputs": [
        {
          "output_type": "stream",
          "name": "stdout",
          "text": [
            "[[1.5]\n",
            " [3.2]\n",
            " [7.4]\n",
            " [2.5]\n",
            " [5.9]]\n"
          ]
        }
      ]
    },
    {
      "cell_type": "markdown",
      "source": [
        "The code  creates a new DataFrame called `df` that contains two columns: 'Actual' and 'Predicted.' These columns store the actual target values (`y_test`) and the predicted values (`y_pred`) generated by your linear regression model for the testing data.\n"
      ],
      "metadata": {
        "id": "lx-pT0vS_Yyv"
      }
    },
    {
      "cell_type": "code",
      "source": [
        "# Comparing Actual vs Predicted\n",
        "df = pd.DataFrame({'Actual': y_test, 'Predicted': y_pred})\n",
        "df"
      ],
      "metadata": {
        "colab": {
          "base_uri": "https://localhost:8080/",
          "height": 206
        },
        "id": "L6VGMD8tgtbP",
        "outputId": "2f112e07-1739-4d60-a868-62c3ce1a778b"
      },
      "execution_count": null,
      "outputs": [
        {
          "output_type": "execute_result",
          "data": {
            "text/plain": [
              "   Actual  Predicted\n",
              "0      20  16.884145\n",
              "1      27  33.732261\n",
              "2      69  75.357018\n",
              "3      30  26.794801\n",
              "4      62  60.491033"
            ],
            "text/html": [
              "\n",
              "  <div id=\"df-79a684fd-f801-4ed4-9e1e-53471e242fa4\" class=\"colab-df-container\">\n",
              "    <div>\n",
              "<style scoped>\n",
              "    .dataframe tbody tr th:only-of-type {\n",
              "        vertical-align: middle;\n",
              "    }\n",
              "\n",
              "    .dataframe tbody tr th {\n",
              "        vertical-align: top;\n",
              "    }\n",
              "\n",
              "    .dataframe thead th {\n",
              "        text-align: right;\n",
              "    }\n",
              "</style>\n",
              "<table border=\"1\" class=\"dataframe\">\n",
              "  <thead>\n",
              "    <tr style=\"text-align: right;\">\n",
              "      <th></th>\n",
              "      <th>Actual</th>\n",
              "      <th>Predicted</th>\n",
              "    </tr>\n",
              "  </thead>\n",
              "  <tbody>\n",
              "    <tr>\n",
              "      <th>0</th>\n",
              "      <td>20</td>\n",
              "      <td>16.884145</td>\n",
              "    </tr>\n",
              "    <tr>\n",
              "      <th>1</th>\n",
              "      <td>27</td>\n",
              "      <td>33.732261</td>\n",
              "    </tr>\n",
              "    <tr>\n",
              "      <th>2</th>\n",
              "      <td>69</td>\n",
              "      <td>75.357018</td>\n",
              "    </tr>\n",
              "    <tr>\n",
              "      <th>3</th>\n",
              "      <td>30</td>\n",
              "      <td>26.794801</td>\n",
              "    </tr>\n",
              "    <tr>\n",
              "      <th>4</th>\n",
              "      <td>62</td>\n",
              "      <td>60.491033</td>\n",
              "    </tr>\n",
              "  </tbody>\n",
              "</table>\n",
              "</div>\n",
              "    <div class=\"colab-df-buttons\">\n",
              "\n",
              "  <div class=\"colab-df-container\">\n",
              "    <button class=\"colab-df-convert\" onclick=\"convertToInteractive('df-79a684fd-f801-4ed4-9e1e-53471e242fa4')\"\n",
              "            title=\"Convert this dataframe to an interactive table.\"\n",
              "            style=\"display:none;\">\n",
              "\n",
              "  <svg xmlns=\"http://www.w3.org/2000/svg\" height=\"24px\" viewBox=\"0 -960 960 960\">\n",
              "    <path d=\"M120-120v-720h720v720H120Zm60-500h600v-160H180v160Zm220 220h160v-160H400v160Zm0 220h160v-160H400v160ZM180-400h160v-160H180v160Zm440 0h160v-160H620v160ZM180-180h160v-160H180v160Zm440 0h160v-160H620v160Z\"/>\n",
              "  </svg>\n",
              "    </button>\n",
              "\n",
              "  <style>\n",
              "    .colab-df-container {\n",
              "      display:flex;\n",
              "      gap: 12px;\n",
              "    }\n",
              "\n",
              "    .colab-df-convert {\n",
              "      background-color: #E8F0FE;\n",
              "      border: none;\n",
              "      border-radius: 50%;\n",
              "      cursor: pointer;\n",
              "      display: none;\n",
              "      fill: #1967D2;\n",
              "      height: 32px;\n",
              "      padding: 0 0 0 0;\n",
              "      width: 32px;\n",
              "    }\n",
              "\n",
              "    .colab-df-convert:hover {\n",
              "      background-color: #E2EBFA;\n",
              "      box-shadow: 0px 1px 2px rgba(60, 64, 67, 0.3), 0px 1px 3px 1px rgba(60, 64, 67, 0.15);\n",
              "      fill: #174EA6;\n",
              "    }\n",
              "\n",
              "    .colab-df-buttons div {\n",
              "      margin-bottom: 4px;\n",
              "    }\n",
              "\n",
              "    [theme=dark] .colab-df-convert {\n",
              "      background-color: #3B4455;\n",
              "      fill: #D2E3FC;\n",
              "    }\n",
              "\n",
              "    [theme=dark] .colab-df-convert:hover {\n",
              "      background-color: #434B5C;\n",
              "      box-shadow: 0px 1px 3px 1px rgba(0, 0, 0, 0.15);\n",
              "      filter: drop-shadow(0px 1px 2px rgba(0, 0, 0, 0.3));\n",
              "      fill: #FFFFFF;\n",
              "    }\n",
              "  </style>\n",
              "\n",
              "    <script>\n",
              "      const buttonEl =\n",
              "        document.querySelector('#df-79a684fd-f801-4ed4-9e1e-53471e242fa4 button.colab-df-convert');\n",
              "      buttonEl.style.display =\n",
              "        google.colab.kernel.accessAllowed ? 'block' : 'none';\n",
              "\n",
              "      async function convertToInteractive(key) {\n",
              "        const element = document.querySelector('#df-79a684fd-f801-4ed4-9e1e-53471e242fa4');\n",
              "        const dataTable =\n",
              "          await google.colab.kernel.invokeFunction('convertToInteractive',\n",
              "                                                    [key], {});\n",
              "        if (!dataTable) return;\n",
              "\n",
              "        const docLinkHtml = 'Like what you see? Visit the ' +\n",
              "          '<a target=\"_blank\" href=https://colab.research.google.com/notebooks/data_table.ipynb>data table notebook</a>'\n",
              "          + ' to learn more about interactive tables.';\n",
              "        element.innerHTML = '';\n",
              "        dataTable['output_type'] = 'display_data';\n",
              "        await google.colab.output.renderOutput(dataTable, element);\n",
              "        const docLink = document.createElement('div');\n",
              "        docLink.innerHTML = docLinkHtml;\n",
              "        element.appendChild(docLink);\n",
              "      }\n",
              "    </script>\n",
              "  </div>\n",
              "\n",
              "\n",
              "<div id=\"df-7d1d31b3-8547-424f-b887-4588ff6c9dc7\">\n",
              "  <button class=\"colab-df-quickchart\" onclick=\"quickchart('df-7d1d31b3-8547-424f-b887-4588ff6c9dc7')\"\n",
              "            title=\"Suggest charts.\"\n",
              "            style=\"display:none;\">\n",
              "\n",
              "<svg xmlns=\"http://www.w3.org/2000/svg\" height=\"24px\"viewBox=\"0 0 24 24\"\n",
              "     width=\"24px\">\n",
              "    <g>\n",
              "        <path d=\"M19 3H5c-1.1 0-2 .9-2 2v14c0 1.1.9 2 2 2h14c1.1 0 2-.9 2-2V5c0-1.1-.9-2-2-2zM9 17H7v-7h2v7zm4 0h-2V7h2v10zm4 0h-2v-4h2v4z\"/>\n",
              "    </g>\n",
              "</svg>\n",
              "  </button>\n",
              "\n",
              "<style>\n",
              "  .colab-df-quickchart {\n",
              "      --bg-color: #E8F0FE;\n",
              "      --fill-color: #1967D2;\n",
              "      --hover-bg-color: #E2EBFA;\n",
              "      --hover-fill-color: #174EA6;\n",
              "      --disabled-fill-color: #AAA;\n",
              "      --disabled-bg-color: #DDD;\n",
              "  }\n",
              "\n",
              "  [theme=dark] .colab-df-quickchart {\n",
              "      --bg-color: #3B4455;\n",
              "      --fill-color: #D2E3FC;\n",
              "      --hover-bg-color: #434B5C;\n",
              "      --hover-fill-color: #FFFFFF;\n",
              "      --disabled-bg-color: #3B4455;\n",
              "      --disabled-fill-color: #666;\n",
              "  }\n",
              "\n",
              "  .colab-df-quickchart {\n",
              "    background-color: var(--bg-color);\n",
              "    border: none;\n",
              "    border-radius: 50%;\n",
              "    cursor: pointer;\n",
              "    display: none;\n",
              "    fill: var(--fill-color);\n",
              "    height: 32px;\n",
              "    padding: 0;\n",
              "    width: 32px;\n",
              "  }\n",
              "\n",
              "  .colab-df-quickchart:hover {\n",
              "    background-color: var(--hover-bg-color);\n",
              "    box-shadow: 0 1px 2px rgba(60, 64, 67, 0.3), 0 1px 3px 1px rgba(60, 64, 67, 0.15);\n",
              "    fill: var(--button-hover-fill-color);\n",
              "  }\n",
              "\n",
              "  .colab-df-quickchart-complete:disabled,\n",
              "  .colab-df-quickchart-complete:disabled:hover {\n",
              "    background-color: var(--disabled-bg-color);\n",
              "    fill: var(--disabled-fill-color);\n",
              "    box-shadow: none;\n",
              "  }\n",
              "\n",
              "  .colab-df-spinner {\n",
              "    border: 2px solid var(--fill-color);\n",
              "    border-color: transparent;\n",
              "    border-bottom-color: var(--fill-color);\n",
              "    animation:\n",
              "      spin 1s steps(1) infinite;\n",
              "  }\n",
              "\n",
              "  @keyframes spin {\n",
              "    0% {\n",
              "      border-color: transparent;\n",
              "      border-bottom-color: var(--fill-color);\n",
              "      border-left-color: var(--fill-color);\n",
              "    }\n",
              "    20% {\n",
              "      border-color: transparent;\n",
              "      border-left-color: var(--fill-color);\n",
              "      border-top-color: var(--fill-color);\n",
              "    }\n",
              "    30% {\n",
              "      border-color: transparent;\n",
              "      border-left-color: var(--fill-color);\n",
              "      border-top-color: var(--fill-color);\n",
              "      border-right-color: var(--fill-color);\n",
              "    }\n",
              "    40% {\n",
              "      border-color: transparent;\n",
              "      border-right-color: var(--fill-color);\n",
              "      border-top-color: var(--fill-color);\n",
              "    }\n",
              "    60% {\n",
              "      border-color: transparent;\n",
              "      border-right-color: var(--fill-color);\n",
              "    }\n",
              "    80% {\n",
              "      border-color: transparent;\n",
              "      border-right-color: var(--fill-color);\n",
              "      border-bottom-color: var(--fill-color);\n",
              "    }\n",
              "    90% {\n",
              "      border-color: transparent;\n",
              "      border-bottom-color: var(--fill-color);\n",
              "    }\n",
              "  }\n",
              "</style>\n",
              "\n",
              "  <script>\n",
              "    async function quickchart(key) {\n",
              "      const quickchartButtonEl =\n",
              "        document.querySelector('#' + key + ' button');\n",
              "      quickchartButtonEl.disabled = true;  // To prevent multiple clicks.\n",
              "      quickchartButtonEl.classList.add('colab-df-spinner');\n",
              "      try {\n",
              "        const charts = await google.colab.kernel.invokeFunction(\n",
              "            'suggestCharts', [key], {});\n",
              "      } catch (error) {\n",
              "        console.error('Error during call to suggestCharts:', error);\n",
              "      }\n",
              "      quickchartButtonEl.classList.remove('colab-df-spinner');\n",
              "      quickchartButtonEl.classList.add('colab-df-quickchart-complete');\n",
              "    }\n",
              "    (() => {\n",
              "      let quickchartButtonEl =\n",
              "        document.querySelector('#df-7d1d31b3-8547-424f-b887-4588ff6c9dc7 button');\n",
              "      quickchartButtonEl.style.display =\n",
              "        google.colab.kernel.accessAllowed ? 'block' : 'none';\n",
              "    })();\n",
              "  </script>\n",
              "</div>\n",
              "    </div>\n",
              "  </div>\n"
            ]
          },
          "metadata": {},
          "execution_count": 10
        }
      ]
    },
    {
      "cell_type": "markdown",
      "source": [
        "In the code , you're using  trained linear regression model (`regressor`) to make a custom prediction for a specific number of hours studied.\n",
        "\n",
        "1. `hours = [[9.25]]`: This line creates a list of lists (`hours`) with a single value, 9.25, representing the number of hours studied. It's structured as a list within a list because the `predict` method expects a 2D array-like input.\n",
        "\n",
        "2. `hours = 9.5`: This line mistakenly assigns a new value of 9.5 to the `hours` variable, overwriting the previous value.\n",
        "\n",
        "3. `hours_2d = np.array(hours).reshape(1, -1)`: This line attempts to convert the `hours` variable into a NumPy array and reshape it to be a 2D array with one row and as many columns as needed. However, due to the previous assignment (`hours = 9.5`), this line will not work as intended, and `hours_2d` will not be correctly formatted as a 2D array.\n",
        "\n",
        "4. `custom_pred = regressor.predict(hours_2d)`: This line attempts to use your linear regression model (`regressor`) to predict the score based on the `hours_2d` input. However, as mentioned, the `hours_2d` variable may not be correctly formatted as a 2D array.\n"
      ],
      "metadata": {
        "id": "sO1IncRI_vkl"
      }
    },
    {
      "cell_type": "code",
      "source": [
        "#hours = [[9.25]]\n",
        "hours= 9.5\n",
        "hours_2d = np.array(hours).reshape(1, -1)\n",
        "custom_pred = regressor.predict(hours_2d)\n",
        "print(\"No of Hours = {}\".format(hours))\n",
        "print(\"Predicted Score = {}\".format(custom_pred[0]))"
      ],
      "metadata": {
        "colab": {
          "base_uri": "https://localhost:8080/"
        },
        "id": "syeY7aemgvkd",
        "outputId": "84ef18d6-174d-4d43-bb53-eb8e7c7e1695"
      },
      "execution_count": null,
      "outputs": [
        {
          "output_type": "stream",
          "name": "stdout",
          "text": [
            "No of Hours = 9.5\n",
            "Predicted Score = 96.16939660753593\n"
          ]
        }
      ]
    },
    {
      "cell_type": "markdown",
      "source": [
        "The code  calculates and prints the Mean Absolute Error (MAE), a common metric for evaluating the performance of a regression model.\n",
        "\n",
        "1. `from sklearn import metrics`: This line imports the `metrics` module from scikit-learn, which provides various metrics for evaluating machine learning models.\n",
        "\n",
        "2. `metrics.mean_absolute_error(y_test, y_pred)`: This line calculates the Mean Absolute Error (MAE) between the actual target values (`y_test`) and the predicted values (`y_pred`) generated by your linear regression model.\n",
        "\n",
        "3. `print('Mean Absolute Error:', metrics.mean_absolute_error(y_test, y_pred))`: This line prints the calculated MAE to the console.\n",
        "\n",
        "The MAE represents the average absolute difference between the actual and predicted values. Lower MAE values indicate that the model's predictions are closer to the actual values, suggesting better model performance.\n",
        "It means that, on average, your model's predictions are off by approximately 4.18 percentage points from the actual values in the testing set."
      ],
      "metadata": {
        "id": "aCY8W6z3_83Q"
      }
    },
    {
      "cell_type": "code",
      "source": [
        "from sklearn import metrics\n",
        "print('Mean Absolute Error:',\n",
        "      metrics.mean_absolute_error(y_test, y_pred))"
      ],
      "metadata": {
        "colab": {
          "base_uri": "https://localhost:8080/"
        },
        "id": "LLhlZuWpgypi",
        "outputId": "fded4ddc-398e-4cdf-c513-8fcde6b5aa50"
      },
      "execution_count": null,
      "outputs": [
        {
          "output_type": "stream",
          "name": "stdout",
          "text": [
            "Mean Absolute Error: 4.183859899002982\n"
          ]
        }
      ]
    }
  ]
}